{
 "cells": [
  {
   "cell_type": "markdown",
   "metadata": {},
   "source": [
    "# Capacitated Vehicle Routing Problem\n",
    "\n",
    "<img src=\"http://neo.lcc.uma.es/dynamic/images/vrp.png\" width=\"400\" />\n",
    "\n",
    "- $C$ is the number of clientes\n",
    "- $N$ is set of clients, with $N=\\{1,2,...,C\\}$\n",
    "- $Vertices$ is set of vetices (or nodes), with $Vertices=\\{0\\}\\cup N$\n",
    "- $A$ is set of arcs, with $A=\\{(i,j)\\in V^2 : i\\neq j\\}$\n",
    "- $dist_{ij}$ is cost of travel over arc $(i,j)\\in A$\n",
    "- $Q$ is the vehicle capacity\n",
    "- $demande_i$ is the amount that has to be delivered to customer $i\\in N$\n",
    "- $V$ is the number of vehicles\n",
    "- $Vehicles$ is set of Vehicles\n",
    "\n",
    "Variables of Decision\n",
    "- $x_{ijv}$ ,$i \\in \\{0,1,2,..,C\\},j \\in \\{0,1,2,..,C\\}, v \\in \\{1,2,..,V\\} $ ,if the vehicle $v$ pass directly from node $i$ to node $j$, $x_{ijv}$=1, if not, $x_{ijv}=0$\n",
    "- $nbreVehiculeUtilise$ number of vehicles uses\n",
    "- $u_{i}, i \\in N$ variable to eliminant the subtours (sous-tours)\n",
    "\n",
    "Les contraintes:\n",
    "- Il y a pas de chemin de node i vers lui même (2)\n",
    "- Au moins 1 véhicules utilisés (3)\n",
    "- Les véhicules si il quitte le dépôt, il rentrera au dépôt à la fin (4)&(5)\n",
    "- Tous les véhicules quittent la node qu'il a visité (6)\n",
    "- Chaque client est passé par exactement 1 fois (7)\n",
    "- La capacité ne doit pas être dépassé (8)\n",
    "- Les contraites pour éliminer les sous-tours (9)&(10)\n",
    "\n",
    "Then, the formulation is the following\n",
    "$$\\begin{align}\n",
    "\\min \\quad & \\sum_{i,j\\in A} dist_{ij} x_{ijv} \\\\\n",
    "\\text{s.t.} \\quad \n",
    "&x_{iiv} = 0 && \\forall i \\in Vertices,\\forall v \\in Vehicles \\\\\n",
    "&\\sum_{j\\in N,v\\in Vehicles}x_{1jv}=1\\\\\n",
    "&\\sum_{j\\in N} x_{j1v} <= 1 && \\forall v\\in Vehicles\\\\\n",
    "&\\sum_{j\\in N} x_{j1v} = \\sum_{j\\in N} x_{1jv} &&\\forall v\\in Vehicles \\\\\n",
    "&\\sum_{i\\in Vertices}x_{jiv} = \\sum_{i \\in Vertices}x_{ijv} &&\\forall j\\in Vertices, \\forall v\\in Vehicles\\\\\n",
    "&\\sum_{v\\in Vehicles, i\\in Vertices}x_{ijv}=1&&\\forall j \\in N \\\\\n",
    "&\\sum_{i\\in Vertices, j\\in N} demande_{j} x_{ijv} \\leqq Q &&\\forall v\\in Vehicles\\\\\n",
    "&u_{j} - u_{i}\\geqq demande_{j}- Q(1-x_{ijv})&&\\forall i\\in N, \\forall j\\in N,\\forall v \\in Vehicles, i\\neq j\\\\\n",
    "&demande_{i} \\leqq u_{i} \\leqq Q &&\\forall i\\in N\n",
    "\\end{align}$$"
   ]
  },
  {
   "cell_type": "code",
   "execution_count": 228,
   "metadata": {},
   "outputs": [],
   "source": [
    "import numpy as np"
   ]
  },
  {
   "cell_type": "code",
   "execution_count": 229,
   "metadata": {},
   "outputs": [],
   "source": [
    "rnd = np.random\n",
    "rnd.seed(0)"
   ]
  },
  {
   "cell_type": "code",
   "execution_count": 230,
   "metadata": {},
   "outputs": [],
   "source": [
    "C = 10\n",
    "Q = 20\n",
    "V = 4\n",
    "Vehicles = [i for i in range(1, V+1)]\n",
    "N = [i for i in range(1, C+1)]\n",
    "Vertices = [0] + N\n",
    "demande = {i: rnd.randint(1, 10) for i in N}"
   ]
  },
  {
   "cell_type": "code",
   "execution_count": 234,
   "metadata": {},
   "outputs": [],
   "source": [
    "loc_x = rnd.rand(len(Vertices))*200\n",
    "loc_y = rnd.rand(len(Vertices))*100"
   ]
  },
  {
   "cell_type": "code",
   "execution_count": 232,
   "metadata": {},
   "outputs": [],
   "source": [
    "import matplotlib.pyplot as plt"
   ]
  },
  {
   "cell_type": "code",
   "execution_count": 235,
   "metadata": {},
   "outputs": [
    {
     "data": {
      "text/plain": [
       "(-5.491622693511664, 197.99919848370754, 2.835518541437008, 72.95014821421645)"
      ]
     },
     "execution_count": 235,
     "metadata": {},
     "output_type": "execute_result"
    },
    {
     "data": {
      "image/png": "[encoded data removed]",
      "text/plain": [
       "<Figure size 640x480 with 1 Axes>"
      ]
     },
     "metadata": {},
     "output_type": "display_data"
    }
   ],
   "source": [
    "plt.scatter(loc_x[1:], loc_y[1:], c='b')\n",
    "for i in N:\n",
    "    plt.annotate('$n_%d=%d$' % (i, demande[i]), (loc_x[i]+2, loc_y[i]))\n",
    "plt.plot(loc_x[0], loc_y[0], c='r', marker='s')\n",
    "plt.axis('equal')"
   ]
  },
  {
   "cell_type": "code",
   "execution_count": 236,
   "metadata": {},
   "outputs": [
    {
     "name": "stdout",
     "output_type": "stream",
     "text": [
      "[(0, 1, 1), (0, 1, 2), (0, 1, 3), (0, 1, 4), (0, 2, 1), (0, 2, 2), (0, 2, 3), (0, 2, 4), (0, 3, 1), (0, 3, 2), (0, 3, 3), (0, 3, 4), (0, 4, 1), (0, 4, 2), (0, 4, 3), (0, 4, 4), (0, 5, 1), (0, 5, 2), (0, 5, 3), (0, 5, 4), (0, 6, 1), (0, 6, 2), (0, 6, 3), (0, 6, 4), (0, 7, 1), (0, 7, 2), (0, 7, 3), (0, 7, 4), (0, 8, 1), (0, 8, 2), (0, 8, 3), (0, 8, 4), (0, 9, 1), (0, 9, 2), (0, 9, 3), (0, 9, 4), (0, 10, 1), (0, 10, 2), (0, 10, 3), (0, 10, 4), (1, 0, 1), (1, 0, 2), (1, 0, 3), (1, 0, 4), (1, 2, 1), (1, 2, 2), (1, 2, 3), (1, 2, 4), (1, 3, 1), (1, 3, 2), (1, 3, 3), (1, 3, 4), (1, 4, 1), (1, 4, 2), (1, 4, 3), (1, 4, 4), (1, 5, 1), (1, 5, 2), (1, 5, 3), (1, 5, 4), (1, 6, 1), (1, 6, 2), (1, 6, 3), (1, 6, 4), (1, 7, 1), (1, 7, 2), (1, 7, 3), (1, 7, 4), (1, 8, 1), (1, 8, 2), (1, 8, 3), (1, 8, 4), (1, 9, 1), (1, 9, 2), (1, 9, 3), (1, 9, 4), (1, 10, 1), (1, 10, 2), (1, 10, 3), (1, 10, 4), (2, 0, 1), (2, 0, 2), (2, 0, 3), (2, 0, 4), (2, 1, 1), (2, 1, 2), (2, 1, 3), (2, 1, 4), (2, 3, 1), (2, 3, 2), (2, 3, 3), (2, 3, 4), (2, 4, 1), (2, 4, 2), (2, 4, 3), (2, 4, 4), (2, 5, 1), (2, 5, 2), (2, 5, 3), (2, 5, 4), (2, 6, 1), (2, 6, 2), (2, 6, 3), (2, 6, 4), (2, 7, 1), (2, 7, 2), (2, 7, 3), (2, 7, 4), (2, 8, 1), (2, 8, 2), (2, 8, 3), (2, 8, 4), (2, 9, 1), (2, 9, 2), (2, 9, 3), (2, 9, 4), (2, 10, 1), (2, 10, 2), (2, 10, 3), (2, 10, 4), (3, 0, 1), (3, 0, 2), (3, 0, 3), (3, 0, 4), (3, 1, 1), (3, 1, 2), (3, 1, 3), (3, 1, 4), (3, 2, 1), (3, 2, 2), (3, 2, 3), (3, 2, 4), (3, 4, 1), (3, 4, 2), (3, 4, 3), (3, 4, 4), (3, 5, 1), (3, 5, 2), (3, 5, 3), (3, 5, 4), (3, 6, 1), (3, 6, 2), (3, 6, 3), (3, 6, 4), (3, 7, 1), (3, 7, 2), (3, 7, 3), (3, 7, 4), (3, 8, 1), (3, 8, 2), (3, 8, 3), (3, 8, 4), (3, 9, 1), (3, 9, 2), (3, 9, 3), (3, 9, 4), (3, 10, 1), (3, 10, 2), (3, 10, 3), (3, 10, 4), (4, 0, 1), (4, 0, 2), (4, 0, 3), (4, 0, 4), (4, 1, 1), (4, 1, 2), (4, 1, 3), (4, 1, 4), (4, 2, 1), (4, 2, 2), (4, 2, 3), (4, 2, 4), (4, 3, 1), (4, 3, 2), (4, 3, 3), (4, 3, 4), (4, 5, 1), (4, 5, 2), (4, 5, 3), (4, 5, 4), (4, 6, 1), (4, 6, 2), (4, 6, 3), (4, 6, 4), (4, 7, 1), (4, 7, 2), (4, 7, 3), (4, 7, 4), (4, 8, 1), (4, 8, 2), (4, 8, 3), (4, 8, 4), (4, 9, 1), (4, 9, 2), (4, 9, 3), (4, 9, 4), (4, 10, 1), (4, 10, 2), (4, 10, 3), (4, 10, 4), (5, 0, 1), (5, 0, 2), (5, 0, 3), (5, 0, 4), (5, 1, 1), (5, 1, 2), (5, 1, 3), (5, 1, 4), (5, 2, 1), (5, 2, 2), (5, 2, 3), (5, 2, 4), (5, 3, 1), (5, 3, 2), (5, 3, 3), (5, 3, 4), (5, 4, 1), (5, 4, 2), (5, 4, 3), (5, 4, 4), (5, 6, 1), (5, 6, 2), (5, 6, 3), (5, 6, 4), (5, 7, 1), (5, 7, 2), (5, 7, 3), (5, 7, 4), (5, 8, 1), (5, 8, 2), (5, 8, 3), (5, 8, 4), (5, 9, 1), (5, 9, 2), (5, 9, 3), (5, 9, 4), (5, 10, 1), (5, 10, 2), (5, 10, 3), (5, 10, 4), (6, 0, 1), (6, 0, 2), (6, 0, 3), (6, 0, 4), (6, 1, 1), (6, 1, 2), (6, 1, 3), (6, 1, 4), (6, 2, 1), (6, 2, 2), (6, 2, 3), (6, 2, 4), (6, 3, 1), (6, 3, 2), (6, 3, 3), (6, 3, 4), (6, 4, 1), (6, 4, 2), (6, 4, 3), (6, 4, 4), (6, 5, 1), (6, 5, 2), (6, 5, 3), (6, 5, 4), (6, 7, 1), (6, 7, 2), (6, 7, 3), (6, 7, 4), (6, 8, 1), (6, 8, 2), (6, 8, 3), (6, 8, 4), (6, 9, 1), (6, 9, 2), (6, 9, 3), (6, 9, 4), (6, 10, 1), (6, 10, 2), (6, 10, 3), (6, 10, 4), (7, 0, 1), (7, 0, 2), (7, 0, 3), (7, 0, 4), (7, 1, 1), (7, 1, 2), (7, 1, 3), (7, 1, 4), (7, 2, 1), (7, 2, 2), (7, 2, 3), (7, 2, 4), (7, 3, 1), (7, 3, 2), (7, 3, 3), (7, 3, 4), (7, 4, 1), (7, 4, 2), (7, 4, 3), (7, 4, 4), (7, 5, 1), (7, 5, 2), (7, 5, 3), (7, 5, 4), (7, 6, 1), (7, 6, 2), (7, 6, 3), (7, 6, 4), (7, 8, 1), (7, 8, 2), (7, 8, 3), (7, 8, 4), (7, 9, 1), (7, 9, 2), (7, 9, 3), (7, 9, 4), (7, 10, 1), (7, 10, 2), (7, 10, 3), (7, 10, 4), (8, 0, 1), (8, 0, 2), (8, 0, 3), (8, 0, 4), (8, 1, 1), (8, 1, 2), (8, 1, 3), (8, 1, 4), (8, 2, 1), (8, 2, 2), (8, 2, 3), (8, 2, 4), (8, 3, 1), (8, 3, 2), (8, 3, 3), (8, 3, 4), (8, 4, 1), (8, 4, 2), (8, 4, 3), (8, 4, 4), (8, 5, 1), (8, 5, 2), (8, 5, 3), (8, 5, 4), (8, 6, 1), (8, 6, 2), (8, 6, 3), (8, 6, 4), (8, 7, 1), (8, 7, 2), (8, 7, 3), (8, 7, 4), (8, 9, 1), (8, 9, 2), (8, 9, 3), (8, 9, 4), (8, 10, 1), (8, 10, 2), (8, 10, 3), (8, 10, 4), (9, 0, 1), (9, 0, 2), (9, 0, 3), (9, 0, 4), (9, 1, 1), (9, 1, 2), (9, 1, 3), (9, 1, 4), (9, 2, 1), (9, 2, 2), (9, 2, 3), (9, 2, 4), (9, 3, 1), (9, 3, 2), (9, 3, 3), (9, 3, 4), (9, 4, 1), (9, 4, 2), (9, 4, 3), (9, 4, 4), (9, 5, 1), (9, 5, 2), (9, 5, 3), (9, 5, 4), (9, 6, 1), (9, 6, 2), (9, 6, 3), (9, 6, 4), (9, 7, 1), (9, 7, 2), (9, 7, 3), (9, 7, 4), (9, 8, 1), (9, 8, 2), (9, 8, 3), (9, 8, 4), (9, 10, 1), (9, 10, 2), (9, 10, 3), (9, 10, 4), (10, 0, 1), (10, 0, 2), (10, 0, 3), (10, 0, 4), (10, 1, 1), (10, 1, 2), (10, 1, 3), (10, 1, 4), (10, 2, 1), (10, 2, 2), (10, 2, 3), (10, 2, 4), (10, 3, 1), (10, 3, 2), (10, 3, 3), (10, 3, 4), (10, 4, 1), (10, 4, 2), (10, 4, 3), (10, 4, 4), (10, 5, 1), (10, 5, 2), (10, 5, 3), (10, 5, 4), (10, 6, 1), (10, 6, 2), (10, 6, 3), (10, 6, 4), (10, 7, 1), (10, 7, 2), (10, 7, 3), (10, 7, 4), (10, 8, 1), (10, 8, 2), (10, 8, 3), (10, 8, 4), (10, 9, 1), (10, 9, 2), (10, 9, 3), (10, 9, 4)]\n",
      "{(0, 0): 0.0, (0, 1): 31.00606674734349, (0, 2): 79.46664299268517, (0, 3): 31.05722444664547, (0, 4): 43.47312988204666, (0, 5): 85.06825854208682, (0, 6): 43.247130122645004, (0, 7): 45.72617082809026, (0, 8): 40.69385047916034, (0, 9): 105.81806235386813, (0, 10): 57.43554258922766, (1, 0): 31.00606674734349, (1, 1): 0.0, (1, 2): 105.2140168912487, (1, 3): 53.74172234906942, (1, 4): 64.97278160326573, (1, 5): 54.42196805017313, (1, 6): 74.16411314834708, (1, 7): 76.0306260201204, (1, 8): 71.5170986859116, (1, 9): 136.03623126093612, (1, 10): 84.50870632367199, (2, 0): 79.46664299268517, (2, 1): 105.2140168912487, (2, 2): 0.0, (2, 3): 90.05521339285707, (2, 4): 41.27550714683219, (2, 5): 151.11288884016756, (2, 6): 57.92263871459271, (2, 7): 65.4660325907088, (2, 8): 49.502705769043715, (2, 9): 47.586065464917276, (2, 10): 22.45004936622386, (3, 0): 31.05722444664547, (3, 1): 53.74172234906942, (3, 2): 90.05521339285707, (3, 3): 0.0, (3, 4): 64.67787277920061, (3, 5): 106.66490681825775, (3, 6): 35.616988276529355, (3, 7): 31.936759819479843, (3, 8): 41.05289963986798, (3, 9): 102.1327359703619, (3, 10): 68.1012820295729, (4, 0): 43.47312988204666, (4, 1): 64.97278160326573, (4, 2): 41.27550714683219, (4, 3): 64.67787277920061, (4, 4): 0.0, (4, 5): 109.92951129965378, (4, 6): 46.687221564967906, (4, 7): 54.48832140868627, (4, 8): 36.44827362317869, (4, 9): 80.9497182914368, (4, 10): 24.64784208829987, (5, 0): 85.06825854208682, (5, 1): 54.42196805017313, (5, 2): 151.11288884016756, (5, 3): 106.66490681825775, (5, 4): 109.92951129965378, (5, 5): 0.0, (5, 6): 128.30820794391616, (5, 7): 130.441523177163, (5, 8): 124.79101414375039, (5, 9): 187.52054577148203, (5, 10): 132.98594598902864, (6, 0): 43.247130122645004, (6, 1): 74.16411314834708, (6, 2): 57.92263871459271, (6, 3): 35.616988276529355, (6, 4): 46.687221564967906, (6, 5): 128.30820794391616, (6, 6): 0.0, (6, 7): 8.22063212273382, (6, 8): 10.505515872821812, (6, 9): 67.00053753755556, (6, 10): 38.20275127411216, (7, 0): 45.72617082809026, (7, 1): 76.0306260201204, (7, 2): 65.4660325907088, (7, 3): 31.936759819479843, (7, 4): 54.48832140868627, (7, 5): 130.441523177163, (7, 6): 8.22063212273382, (7, 7): 0.0, (7, 8): 18.67529155348554, (7, 9): 70.3631216836694, (7, 10): 46.27803975305987, (8, 0): 40.69385047916034, (8, 1): 71.5170986859116, (8, 2): 49.502705769043715, (8, 3): 41.05289963986798, (8, 4): 36.44827362317869, (8, 5): 124.79101414375039, (8, 6): 10.505515872821812, (8, 7): 18.67529155348554, (8, 8): 0.0, (8, 9): 65.54090081127023, (8, 10): 28.59158555221909, (9, 0): 105.81806235386813, (9, 1): 136.03623126093612, (9, 2): 47.586065464917276, (9, 3): 102.1327359703619, (9, 4): 80.9497182914368, (9, 5): 187.52054577148203, (9, 6): 67.00053753755556, (9, 7): 70.3631216836694, (9, 8): 65.54090081127023, (9, 9): 0.0, (9, 10): 56.30818008853604, (10, 0): 57.43554258922766, (10, 1): 84.50870632367199, (10, 2): 22.45004936622386, (10, 3): 68.1012820295729, (10, 4): 24.64784208829987, (10, 5): 132.98594598902864, (10, 6): 38.20275127411216, (10, 7): 46.27803975305987, (10, 8): 28.59158555221909, (10, 9): 56.30818008853604, (10, 10): 0.0}\n"
     ]
    }
   ],
   "source": [
    "A = [(i, j) for i in Vertices for j in Vertices if i!=j]\n",
    "B = [(i, j, v) for i in Vertices for j in Vertices for v in Vehicles if i!=j]\n",
    "print(B)\n",
    "dist = {(i, j): np.hypot(loc_x[i]-loc_x[j], loc_y[i]-loc_y[j]) for i in Vertices for j in Vertices}\n",
    "print(dist)"
   ]
  },
  {
   "cell_type": "code",
   "execution_count": 237,
   "metadata": {},
   "outputs": [],
   "source": [
    "from docplex.mp.model import Model"
   ]
  },
  {
   "cell_type": "code",
   "execution_count": 238,
   "metadata": {},
   "outputs": [],
   "source": [
    "mdl = Model('CVRP')"
   ]
  },
  {
   "cell_type": "code",
   "execution_count": 239,
   "metadata": {},
   "outputs": [],
   "source": [
    "x = mdl.binary_var_dict(B, name='x')\n",
    "u = mdl.continuous_var_dict(N, ub=Q, name='u')"
   ]
  },
  {
   "cell_type": "code",
   "execution_count": 243,
   "metadata": {},
   "outputs": [
    {
     "name": "stdout",
     "output_type": "stream",
     "text": [
      "Version identifier: 22.1.1.0 | 2022-11-26 | 9160aff4d\n",
      "CPXPARAM_Read_DataCheck                          1\n",
      "Tried aggregator 1 time.\n",
      "MIP Presolve eliminated 24 rows and 0 columns.\n",
      "Reduced MIP has 423 rows, 450 columns, and 2840 nonzeros.\n",
      "Reduced MIP has 440 binaries, 0 generals, 0 SOSs, and 0 indicators.\n",
      "Presolve time = 0.00 sec. (1.80 ticks)\n",
      "Found incumbent of value 911.735342 after 0.01 sec. (5.55 ticks)\n",
      "Probing time = 0.00 sec. (2.87 ticks)\n",
      "Tried aggregator 1 time.\n",
      "Detecting symmetries...\n",
      "Reduced MIP has 423 rows, 450 columns, and 2840 nonzeros.\n",
      "Reduced MIP has 440 binaries, 0 generals, 0 SOSs, and 0 indicators.\n",
      "Presolve time = 0.00 sec. (1.96 ticks)\n",
      "Probing time = 0.00 sec. (2.84 ticks)\n",
      "Clique table members: 1715.\n",
      "MIP emphasis: balance optimality and feasibility.\n",
      "MIP search method: dynamic search.\n",
      "Parallel mode: deterministic, using up to 12 threads.\n",
      "Root relaxation solution time = 0.00 sec. (0.89 ticks)\n",
      "\n",
      "        Nodes                                         Cuts/\n",
      "   Node  Left     Objective  IInf  Best Integer    Best Bound    ItCnt     Gap\n",
      "\n",
      "*     0+    0                          911.7353        0.0000           100.00%\n",
      "      0     0      352.8276    18      911.7353      352.8276       37   61.30%\n",
      "      0     0      352.8276    18      911.7353      Cuts: 31       51   61.30%\n",
      "      0     0      356.4718    33      911.7353      Cuts: 34       83   60.90%\n",
      "      0     0      359.1574    33      911.7353      Cuts: 53       91   60.61%\n",
      "      0     0      364.5829    46      911.7353      Cuts: 20      111   60.01%\n",
      "      0     0      376.3381    47      911.7353       Cuts: 6      118   58.72%\n",
      "      0     0      376.3381    48      911.7353      Cuts: 10      125   58.72%\n",
      "*     0+    0                          625.0614      376.3381            39.79%\n",
      "*     0+    0                          553.1372      376.3381            31.96%\n",
      "*     0+    0                          536.8854      376.3381            29.90%\n",
      "      0     2      376.3381    20      536.8854      425.1984      125   20.80%\n",
      "Elapsed time = 0.30 sec. (56.75 ticks, tree = 0.02 MB, solutions = 4)\n",
      "   5283  2398        cutoff            536.8854      456.8162    61066   14.91%\n",
      "\n",
      "Performing restart 1\n",
      "\n",
      "Repeating presolve.\n",
      "Tried aggregator 1 time.\n",
      "MIP Presolve modified 320 coefficients.\n",
      "Reduced MIP has 423 rows, 450 columns, and 2744 nonzeros.\n",
      "Reduced MIP has 440 binaries, 0 generals, 0 SOSs, and 0 indicators.\n",
      "Presolve time = 0.01 sec. (2.26 ticks)\n",
      "Tried aggregator 1 time.\n",
      "Reduced MIP has 423 rows, 450 columns, and 2744 nonzeros.\n",
      "Reduced MIP has 440 binaries, 0 generals, 0 SOSs, and 0 indicators.\n",
      "Presolve time = 0.01 sec. (1.98 ticks)\n",
      "Represolve time = 0.02 sec. (12.37 ticks)\n",
      "   6208     0      418.5482    23      536.8854      Cuts: 61    78197   13.75%\n",
      "   6208     0      425.1984    26      536.8854      Cuts: 22    78246   13.75%\n",
      "   6208     0      425.8017    28      536.8854      Cuts: 41    78279   13.75%\n",
      "   6208     0      427.7838    22      536.8854      Cuts: 24    78300   13.75%\n",
      "   6208     0      430.3692    22      536.8854      Cuts: 30    78336   13.75%\n",
      "   6208     0      430.3692    22      536.8854       Cuts: 5    78350   13.75%\n",
      "   6208     2      430.3692    14      536.8854      463.0679    78350   13.75%\n",
      "   7739   539        cutoff            536.8854      463.0679    98821   13.75%\n",
      "  10162   106    infeasible            536.8854      524.1342   146367    2.38%\n",
      "\n",
      "GUB cover cuts applied:  1\n",
      "Cover cuts applied:  37\n",
      "Implied bound cuts applied:  2\n",
      "Mixed integer rounding cuts applied:  4\n",
      "Zero-half cuts applied:  4\n",
      "Lift and project cuts applied:  10\n",
      "Gomory fractional cuts applied:  10\n",
      "\n",
      "Root node processing (before b&c):\n",
      "  Real time             =    0.29 sec. (56.56 ticks)\n",
      "Parallel b&c, 12 threads:\n",
      "  Real time             =    2.28 sec. (1287.33 ticks)\n",
      "  Sync time (average)   =    0.51 sec.\n",
      "  Wait time (average)   =    0.00 sec.\n",
      "                          ------------\n",
      "Total (root+branch&cut) =    2.56 sec. (1343.89 ticks)\n"
     ]
    }
   ],
   "source": [
    "mdl.minimize(mdl.sum(dist[i, j]*x[i, j,v]  for i, j,v in B))\n",
    "mdl.add_constraint(mdl.sum(x[0,j,v] for j in N for v in Vehicles)>=1)#Au moins 1 véhicules utilisés\n",
    "mdl.add_constraints(mdl.sum(x[j,0,v] for j in N)<=1 for v in Vehicles)#Les véhicules si il quitte le dépôt, il rentrera au dépôt à la fin\n",
    "mdl.add_constraints(mdl.sum(x[j,0,v] for j in N)==mdl.sum(x[0,j,v] for j in N) for v in Vehicles) #Les véhicules si il quitte le dépôt, il rentrera au dépôt à la fin\n",
    "#Tous les véhicules quittent la node qu'il a visité\n",
    "mdl.add_constraints(mdl.sum(x[j,i,v] for i in Vertices if i!=j)== mdl.sum(x[i,j,v] for i in Vertices if i!=j) for j in Vertices for v in Vehicles)\n",
    "#Chaque client est passé par exactement 1 fois\n",
    "mdl.add_constraints(mdl.sum(x[i,j,v] for v in Vehicles for i in Vertices if i!=j) == 1 for j in N)\n",
    "#La capacité ne doit pas être dépassé\n",
    "mdl.add_constraints(mdl.sum(demande[j]*x[i,j,v] for i in Vertices for j in N if i!=j)<=Q for v in Vehicles)\n",
    "mdl.add_constraints(u[j]-u[i] >= demande[j]-Q*(1-x[i,j,v]) for i in N for j in N for v in Vehicles if i!=j)\n",
    "mdl.add_constraints(u[i]<= Q for i in N)\n",
    "mdl.add_constraints(u[i] >= demande[i] for i in N)\n",
    "solution = mdl.solve(log_output=True)\n",
    "#add_contraint et add_contraints => for chaque "
   ]
  },
  {
   "cell_type": "code",
   "execution_count": 244,
   "metadata": {},
   "outputs": [
    {
     "name": "stdout",
     "output_type": "stream",
     "text": [
      "solution for: CVRP\n",
      "objective: 536.885\n",
      "status: OPTIMAL_SOLUTION(2)\n",
      "x_0_1_4=1\n",
      "x_0_8_2=1\n",
      "x_0_9_1=1\n",
      "x_1_5_4=1\n",
      "x_2_10_1=1\n",
      "x_3_0_2=1\n",
      "x_4_0_1=1\n",
      "x_5_0_4=1\n",
      "x_6_7_2=1\n",
      "x_7_3_2=1\n",
      "x_8_6_2=1\n",
      "x_9_2_1=1\n",
      "x_10_4_1=1\n",
      "u_1=6.000\n",
      "u_2=6.000\n",
      "u_3=20.000\n",
      "u_4=20.000\n",
      "u_5=14.000\n",
      "u_6=7.000\n",
      "u_7=13.000\n",
      "u_8=3.000\n",
      "u_9=5.000\n",
      "u_10=14.000\n",
      "\n"
     ]
    }
   ],
   "source": [
    "print(solution)"
   ]
  },
  {
   "cell_type": "code",
   "execution_count": 245,
   "metadata": {},
   "outputs": [
    {
     "data": {
      "text/plain": [
       "<JobSolveStatus.OPTIMAL_SOLUTION: 2>"
      ]
     },
     "execution_count": 245,
     "metadata": {},
     "output_type": "execute_result"
    }
   ],
   "source": [
    "solution.solve_status"
   ]
  },
  {
   "cell_type": "code",
   "execution_count": 246,
   "metadata": {},
   "outputs": [
    {
     "name": "stdout",
     "output_type": "stream",
     "text": [
      "[(0, 1, 4), (0, 8, 2), (0, 9, 1), (1, 5, 4), (2, 10, 1), (3, 0, 2), (4, 0, 1), (5, 0, 4), (6, 7, 2), (7, 3, 2), (8, 6, 2), (9, 2, 1), (10, 4, 1)]\n"
     ]
    }
   ],
   "source": [
    "\n",
    "active_arcs = [a for a in B if x[a].solution_value > 0.9]\n",
    "print (active_arcs)"
   ]
  },
  {
   "cell_type": "code",
   "execution_count": 247,
   "metadata": {},
   "outputs": [
    {
     "data": {
      "text/plain": [
       "(-5.491622693511664, 197.99919848370754, 2.835518541437008, 72.95014821421645)"
      ]
     },
     "execution_count": 247,
     "metadata": {},
     "output_type": "execute_result"
    },
    {
     "data": {
      "image/png": "[encoded data removed]",
      "text/plain": [
       "<Figure size 640x480 with 1 Axes>"
      ]
     },
     "metadata": {},
     "output_type": "display_data"
    }
   ],
   "source": [
    "color = ['r', 'g', 'b', 'r']\n",
    "plt.scatter(loc_x[1:], loc_y[1:], c='b')\n",
    "for i in N:\n",
    "    plt.annotate('$n_%d=%d$' % (i, demande[i]), (loc_x[i]+2, loc_y[i]))\n",
    "for i, j,v in active_arcs:\n",
    "    plt.plot([loc_x[i], loc_x[j]], [loc_y[i], loc_y[j]], c=color[v-1], alpha=0.3)\n",
    "plt.plot(loc_x[0], loc_y[0], c='r', marker='s')\n",
    "plt.axis('equal')"
   ]
  }
 ],
 "metadata": {
  "kernelspec": {
   "display_name": "Python 3",
   "language": "python",
   "name": "python3"
  },
  "language_info": {
   "codemirror_mode": {
    "name": "ipython",
    "version": 3
   },
   "file_extension": ".py",
   "mimetype": "text/x-python",
   "name": "python",
   "nbconvert_exporter": "python",
   "pygments_lexer": "ipython3",
   "version": "3.9.2"
  }
 },
 "nbformat": 4,
 "nbformat_minor": 2
}
